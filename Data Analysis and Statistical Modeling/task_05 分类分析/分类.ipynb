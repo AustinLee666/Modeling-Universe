{
 "cells": [
  {
   "cell_type": "markdown",
   "metadata": {},
   "source": [
    "# 分类分析"
   ]
  },
  {
   "cell_type": "markdown",
   "metadata": {},
   "source": [
    "有关回归分析的学习已基本完成，接下来我们将简单学习一波与回归分析相对应的内容——分类分析。\n",
    "\n",
    "回归和分类是数据分析的两大重要任务，它们最大的区别在于因变量的类别：回归分析的因变量是连续变量；分类分析的因变量是分类属性变量。与回归分析一样，在进行分类分析之前，我们必须要弄清楚我们建模的目的是推断还是预测，任务的不同将很大程度决定我们建模所采用的方法论的不同——如果是以推断/分析为主，那么我们在建模时所采用的模型最好是易于解释的白盒模型，如一众线性模型；如果是以预测为主，则我们建模的依据主要是预测的精度，模型的可解释性相对而言不那么重要。\n",
    "\n",
    "对于分类任务而言，当前预测精度高的模型基本上都是深度学习/机器学习模型（如：支持向量机、随机森林、Xgboost等），而这些模型的可解释性一般都很差，我们难以在这些模型中寻找变量之间的依存信息。而如果我们追求分类模型的可解释性，探究各自变量对分类决策的影响，那么使用线性模型框架下的分类模型就比较合适了（如：Logistic回归、Probit回归等）。\n",
    "\n",
    "本次学习我们只学习可解释性强的线性分类模型，有关机器学习、深度学习模型的学习，将在后续的课程展开，敬请期待！"
   ]
  },
  {
   "cell_type": "markdown",
   "metadata": {},
   "source": [
    "# 0. 分类问题与对应模型"
   ]
  },
  {
   "cell_type": "markdown",
   "metadata": {},
   "source": [
    "在现实生活中，我们会遇到许多与分类有关的问题，分类问题按照被分类对象的类别划分，总共可以分为三类：二分类问题、无序多分类问题、有序多分类问题。\n",
    "\n",
    "二分类问题是最简单也是最常见的分类问题，如我们要研究客户流失跟哪些因素有关，从而对客户流失做出预警，此时因变量就是客户“是”与“否”会流失；又例如根据短信正文的内容判断邮件是垃圾邮件还是正常邮件，这些都属于二分类问题。二分类问题可用二分类Logistic回归模型与Probit模型，这两个模型将是我们重点介绍的模型。\n",
    "\n",
    "无序多分类问题是二分类问题的延伸，如我们要根据新闻内容对新闻主题进行分类，分类主题有体育、政治、娱乐、生活等。这种因变量类别多于两个，且类别间没有大小顺序的分类问题，被称为无序多分类问题，可用多类别logistic回归模型建模。\n",
    "\n",
    "有序多分类问题也称为定序问题，在问卷调查中常常出现，如我们要求消费者对产品进行满意度评价，评价结果包括不满意、一般、满意三个选项，我们可以将之赋值为1/2/3。这三个取值是存在先后大小之分的，这是与无序多分类问题最大的不同。对于这类问题，我们可用有序Logistic回归模型。\n",
    "\n",
    "总结如下：\n",
    "\n",
    "1. 二分类问题——二分类Logistic回归、Probit回归\n",
    "2. 无序多分类问题——多分类Logistic回归\n",
    "3. 有序多分类问题——有序Logistic回归\n",
    "\n",
    "由于笔者没有在statsmodels与sklearn中找到有序Logistic回归的api，因此我们主要学习前面两种分类问题。"
   ]
  },
  {
   "cell_type": "markdown",
   "metadata": {},
   "source": [
    "# 1. 二分类问题"
   ]
  },
  {
   "cell_type": "markdown",
   "metadata": {},
   "source": [
    "## 1.1 线性回归模型是如何处理分类问题的？"
   ]
  },
  {
   "cell_type": "markdown",
   "metadata": {},
   "source": [
    "我们用一个具体的案例来引入讨论。\n",
    "\n",
    "**· Example12.** ST是我国股市特有的一项保护投资者利于的决策，当上市公司因财务状况不佳导致投资者难以预测其前景时，交易所会标记该公司股票为ST，并进行一系列限制措施。我们想研究被ST的公司其背后的因素，并尝试通过利用公司的财务指标提前预测某上市公司在未来是否会被ST，是一件很有意义的举措。而在这项任务中，因变量就是公司是否会被ST，数学表示为：\n",
    "$$\n",
    "y= \\begin{cases}1, & S T \\\\ 0, & \\text { Otherwise }\\end{cases}\n",
    "$$\n",
    "该例中自变量是一些财务指标，如ARA、ASSET等，它们具体的意义在此不做赘述。\n",
    "\n",
    "在回归问题中，对于一个待预测样本$x$，模型输出值$\\hat{y}$的性质就是因变量的性质，例如：如果某个问题中因变量是价格，那么模型输出的值也应当是价格。但是分类问题不一样，以这个例子为例，模型是不可能直接回答我们结果是0还是1的，那么分类问题中模型一般输出什么呢？\n",
    "\n",
    "**概率**！准确来说是在给定$x$下，$y=1$的概率\n",
    "$$\n",
    "P(y=1 \\mid x)\n",
    "$$\n"
   ]
  },
  {
   "cell_type": "markdown",
   "metadata": {},
   "source": [
    "**· 线性概率模型(LPM)**\n",
    "\n",
    "与回归问题因变量天然确定的情况不一样，分类问题中概率的形式是需要我们人为确定的，即我们要确定如何将线性模型的直接输出值$\\hat{y}$映射成概率值$\\widehat{P(y=1\\mid x)}$。\n",
    "\n",
    "我们可以看到多元线性模型的样本回归线\n",
    "$$\n",
    "\\hat{y}=\\hat{\\beta}_0+\\hat{\\beta}_1x_1+\\cdots +\\hat{\\beta}_kx_k\n",
    "$$\n",
    "的输出值$\\hat{y}$是一个连续变量，而概率也是一个连续的变量，那么我们能不能让这个输出值$\\hat{y}=\\widehat{P(y=1 \\mid x)}$呢？即有\n",
    "$$\n",
    "\\widehat{P(y=1\\mid x)}=\\hat{y}=\\hat{\\beta}_0+\\hat{\\beta}_1x_1+\\cdots +\\hat{\\beta}_kx_k\n",
    "$$\n",
    "\n",
    "这种直接将线性模型的输出$y$当做条件概率$P(y=1 \\mid x)$的模型被称为线性概率模型(LPM)。在线性概率模型中，系数$\\beta$可以被解释为：在其他因素保持不变的前提下，$x$每增加一个单位，$y$取1的概率平均增加$\\beta$个单位。\n",
    "\n",
    "LPM模型有一个很大的缺点——$\\hat{y}$可能不在区间(0,1)内，而概率只能在(0,1)区间内。（当然，还有其他的缺点，但大家只需要记住这个就可以了）\n"
   ]
  },
  {
   "cell_type": "markdown",
   "metadata": {},
   "source": [
    "\n",
    "**· 概率的映射**\n",
    "\n",
    "LPM模型的缺点非常明显，在一般情况下并不建议大家使用LPM。既然将$y$直接视为条件概率不妥当，那有什么解决办法呢？\n",
    "\n",
    "答案是——我们可以将线性模型输出值$y$放在一个映射函数中，将之映射为一个概率。而映射函数的不同决定了模型的形式、解释、训练方法的不同。在这里，我们介绍两种映射函数——Logistic函数与Probit函数\n",
    "\n",
    "若映射函数为Logistic函数\n",
    "$$\n",
    "G(y)=\\frac{1}{1+e^{-y}}\n",
    "$$\n",
    "则整个预测模型被称为Logistic线性回归模型\n",
    "\n",
    "若映射函数为Probit函数\n",
    "$$\n",
    "\\Phi(y)=P(Y \\leq y)=\\int_{-\\infty}^{y} \\frac{1}{\\sqrt{2 \\pi}} \\exp \\left(-\\frac{1}{2} x^{2}\\right) d x\n",
    "$$\n",
    "则整个预测模型被称为Probit线性回归模型。注意到，Probit函数实际上就是标准正态分布的累积函数。\n",
    "\n",
    "这两个函数的形状如下：\n",
    "<img src='./images/映射.png'>\n",
    "可以看到，这两个函数都具有单调递增性质的可逆函数，且值域位于(0,1)之间，是理想的概率映射函数。"
   ]
  },
  {
   "cell_type": "markdown",
   "metadata": {},
   "source": [
    "## 1.2 Logistic线性回归模型"
   ]
  },
  {
   "cell_type": "markdown",
   "metadata": {},
   "source": [
    "**· 模型形式**\n",
    "\n",
    "记$y=x^{\\prime} \\beta=\\beta_{0}+\\beta_{1} x_{1}+\\cdots+\\beta_{k} x_{k}$，则Logistic回归模型形式为\n",
    "$$\n",
    "P(y=1 \\mid x)=p\\left( x \\right) =\\frac{1}{1+e^{-y}}=\\frac{1}{1+e^{-x^{'}\\beta}}\n",
    "$$\n",
    "以上形式还可以恒等变换为以下形式，便于我们对模型进行解释\n",
    "$$\n",
    "\\log \\left(\\frac{p(x)}{1-p(x)}\\right)=\\beta_{0}+\\beta_{1} x_{1}+\\cdots+\\beta_{k} x_{k}\n",
    "$$\n",
    "这个模型形式告诉我们，Logistic回归模型与一般多元回归模型的一大区别在于，前者的因变量是一个有关概率$p\\left( y=1|x \\right) $的函数，而后者的因变量只是其本身。"
   ]
  },
  {
   "cell_type": "markdown",
   "metadata": {},
   "source": [
    "**· 模型解释**\n",
    "\n",
    "要想解释这个模型中每个变量系数的意义，首先要弄清楚$\\log \\left(\\frac{p(x)}{1-p(x)}\\right)$的含义。\n",
    "\n",
    "如果把$y=1$看作“成功”，$y=0$看作失败，则$p(x) /[1-p(x)]$就是成功与失败的概率比，被称为胜率(odd)。因此对于系数$\\beta_j$，我们的解释是：当其他自变量不变时，变量$x_i$提升一个单位，胜率odd会提升$\\beta_j \\%$。"
   ]
  },
  {
   "cell_type": "code",
   "execution_count": 1,
   "metadata": {},
   "outputs": [],
   "source": [
    "# 加载基础包\n",
    "import pandas as pd\n",
    "import numpy as np\n",
    "import statsmodels.api as sm\n",
    "from scipy import stats"
   ]
  },
  {
   "cell_type": "code",
   "execution_count": 2,
   "metadata": {},
   "outputs": [
    {
     "data": {
      "text/html": [
       "<div>\n",
       "<style scoped>\n",
       "    .dataframe tbody tr th:only-of-type {\n",
       "        vertical-align: middle;\n",
       "    }\n",
       "\n",
       "    .dataframe tbody tr th {\n",
       "        vertical-align: top;\n",
       "    }\n",
       "\n",
       "    .dataframe thead th {\n",
       "        text-align: right;\n",
       "    }\n",
       "</style>\n",
       "<table border=\"1\" class=\"dataframe\">\n",
       "  <thead>\n",
       "    <tr style=\"text-align: right;\">\n",
       "      <th></th>\n",
       "      <th>ARA</th>\n",
       "      <th>ASSET</th>\n",
       "      <th>ATO</th>\n",
       "      <th>ROA</th>\n",
       "      <th>GROWTH</th>\n",
       "      <th>LEV</th>\n",
       "      <th>SHARE</th>\n",
       "      <th>ST</th>\n",
       "    </tr>\n",
       "  </thead>\n",
       "  <tbody>\n",
       "    <tr>\n",
       "      <th>0</th>\n",
       "      <td>0.192310</td>\n",
       "      <td>19.856048</td>\n",
       "      <td>0.0052</td>\n",
       "      <td>0.087710</td>\n",
       "      <td>-0.950727</td>\n",
       "      <td>0.445880</td>\n",
       "      <td>26.89</td>\n",
       "      <td>0</td>\n",
       "    </tr>\n",
       "    <tr>\n",
       "      <th>1</th>\n",
       "      <td>0.220120</td>\n",
       "      <td>20.910863</td>\n",
       "      <td>0.0056</td>\n",
       "      <td>0.016820</td>\n",
       "      <td>-0.942656</td>\n",
       "      <td>0.398686</td>\n",
       "      <td>39.62</td>\n",
       "      <td>0</td>\n",
       "    </tr>\n",
       "    <tr>\n",
       "      <th>2</th>\n",
       "      <td>0.325292</td>\n",
       "      <td>19.352623</td>\n",
       "      <td>0.0166</td>\n",
       "      <td>0.042468</td>\n",
       "      <td>-0.937440</td>\n",
       "      <td>0.303348</td>\n",
       "      <td>26.46</td>\n",
       "      <td>0</td>\n",
       "    </tr>\n",
       "    <tr>\n",
       "      <th>3</th>\n",
       "      <td>0.025729</td>\n",
       "      <td>21.438928</td>\n",
       "      <td>0.0028</td>\n",
       "      <td>0.018152</td>\n",
       "      <td>-0.852995</td>\n",
       "      <td>0.758250</td>\n",
       "      <td>60.16</td>\n",
       "      <td>0</td>\n",
       "    </tr>\n",
       "    <tr>\n",
       "      <th>4</th>\n",
       "      <td>0.533591</td>\n",
       "      <td>21.613339</td>\n",
       "      <td>0.2552</td>\n",
       "      <td>0.004147</td>\n",
       "      <td>-0.816704</td>\n",
       "      <td>0.726875</td>\n",
       "      <td>54.24</td>\n",
       "      <td>1</td>\n",
       "    </tr>\n",
       "  </tbody>\n",
       "</table>\n",
       "</div>"
      ],
      "text/plain": [
       "        ARA      ASSET     ATO       ROA    GROWTH       LEV  SHARE  ST\n",
       "0  0.192310  19.856048  0.0052  0.087710 -0.950727  0.445880  26.89   0\n",
       "1  0.220120  20.910863  0.0056  0.016820 -0.942656  0.398686  39.62   0\n",
       "2  0.325292  19.352623  0.0166  0.042468 -0.937440  0.303348  26.46   0\n",
       "3  0.025729  21.438928  0.0028  0.018152 -0.852995  0.758250  60.16   0\n",
       "4  0.533591  21.613339  0.2552  0.004147 -0.816704  0.726875  54.24   1"
      ]
     },
     "execution_count": 2,
     "metadata": {},
     "output_type": "execute_result"
    }
   ],
   "source": [
    "# 读取数据\n",
    "ST=pd.read_csv('ST.csv')\n",
    "ST.head()"
   ]
  },
  {
   "cell_type": "code",
   "execution_count": 3,
   "metadata": {},
   "outputs": [
    {
     "name": "stdout",
     "output_type": "stream",
     "text": [
      "Optimization terminated successfully.\n",
      "         Current function value: 0.183849\n",
      "         Iterations 8\n",
      "                           Logit Regression Results                           \n",
      "==============================================================================\n",
      "Dep. Variable:                     ST   No. Observations:                  684\n",
      "Model:                          Logit   Df Residuals:                      676\n",
      "Method:                           MLE   Df Model:                            7\n",
      "Date:                Wed, 06 Jul 2022   Pseudo R-squ.:                  0.1084\n",
      "Time:                        11:27:56   Log-Likelihood:                -125.75\n",
      "converged:                       True   LL-Null:                       -141.04\n",
      "Covariance Type:            nonrobust   LLR p-value:                 7.477e-05\n",
      "==============================================================================\n",
      "                 coef    std err          z      P>|z|      [0.025      0.975]\n",
      "------------------------------------------------------------------------------\n",
      "Intercept     -8.8692      4.636     -1.913      0.056     -17.955       0.217\n",
      "ARA            4.8797      1.492      3.270      0.001       1.955       7.805\n",
      "ASSET          0.2466      0.224      1.100      0.271      -0.193       0.686\n",
      "ATO           -0.5074      0.657     -0.772      0.440      -1.796       0.781\n",
      "ROA           -0.6366      6.224     -0.102      0.919     -12.835      11.562\n",
      "GROWTH        -0.8333      0.567     -1.470      0.142      -1.945       0.278\n",
      "LEV            2.3542      1.201      1.960      0.050      -0.001       4.709\n",
      "SHARE         -0.0111      0.011     -0.997      0.319      -0.033       0.011\n",
      "==============================================================================\n"
     ]
    }
   ],
   "source": [
    "st_logit=sm.formula.logit('ST~ARA+ASSET+ATO+ROA+GROWTH+LEV+SHARE',data=ST).fit()\n",
    "print(st_logit.summary())"
   ]
  },
  {
   "cell_type": "markdown",
   "metadata": {},
   "source": [
    "## 1.3 Probit线性回归模型"
   ]
  },
  {
   "cell_type": "markdown",
   "metadata": {},
   "source": [
    "**· 模型形式**\n",
    "\n",
    "Probit回归模型形式为\n",
    "$$\n",
    "p(x)=\\Phi\\left(x^{\\prime} \\beta\\right)\n",
    "$$\n",
    "其中，$\\Phi$就是标准正态分布的累积函数\n",
    "\n",
    "**· 模型解释**\n",
    "\n",
    "Probit模型的系数解释不直观，但可以确定的是，当$\\beta_j>0$时，$x_j$的增加会导致响应概率$p(x)$的增加。"
   ]
  },
  {
   "cell_type": "code",
   "execution_count": 4,
   "metadata": {},
   "outputs": [
    {
     "name": "stdout",
     "output_type": "stream",
     "text": [
      "Optimization terminated successfully.\n",
      "         Current function value: 0.183018\n",
      "         Iterations 7\n",
      "                          Probit Regression Results                           \n",
      "==============================================================================\n",
      "Dep. Variable:                     ST   No. Observations:                  684\n",
      "Model:                         Probit   Df Residuals:                      676\n",
      "Method:                           MLE   Df Model:                            7\n",
      "Date:                Wed, 06 Jul 2022   Pseudo R-squ.:                  0.1124\n",
      "Time:                        11:27:56   Log-Likelihood:                -125.18\n",
      "converged:                       True   LL-Null:                       -141.04\n",
      "Covariance Type:            nonrobust   LLR p-value:                 4.612e-05\n",
      "==============================================================================\n",
      "                 coef    std err          z      P>|z|      [0.025      0.975]\n",
      "------------------------------------------------------------------------------\n",
      "Intercept     -4.9545      2.210     -2.242      0.025      -9.286      -0.623\n",
      "ARA            2.6467      0.767      3.450      0.001       1.143       4.150\n",
      "ASSET          0.1354      0.107      1.263      0.207      -0.075       0.346\n",
      "ATO           -0.2329      0.306     -0.761      0.447      -0.833       0.367\n",
      "ROA            0.6696      2.504      0.267      0.789      -4.239       5.578\n",
      "GROWTH        -0.4733      0.274     -1.727      0.084      -1.010       0.064\n",
      "LEV            1.1952      0.590      2.025      0.043       0.038       2.352\n",
      "SHARE         -0.0050      0.005     -0.959      0.337      -0.015       0.005\n",
      "==============================================================================\n"
     ]
    }
   ],
   "source": [
    "st_probit=sm.formula.probit('ST~ARA+ASSET+ATO+ROA+GROWTH+LEV+SHARE',data=ST).fit()\n",
    "print(st_probit.summary())"
   ]
  },
  {
   "cell_type": "markdown",
   "metadata": {},
   "source": [
    "## 1.4 模型推断"
   ]
  },
  {
   "cell_type": "markdown",
   "metadata": {},
   "source": [
    "Logistic回归与Probit回归在统计推断上是一致的。与OLS估计的多元线性回归不同的是，这两种分类回归模型采用的是极大似然估计法对模型参数进行估计，在极大似然估计的一般理论下，我们可以证明模型估计系数$\\hat{\\beta}$是$\\beta$的一致估计。\n",
    "\n",
    "基于极大似然估计的Logistic回归与Probit回归与基于OLS的多元线性回归在参数假设检验的思想上是相似的，只不过它们的检验统计量所服从的分布会有所不同。\n",
    "\n",
    "**· 单参数显著性检验**\n",
    "\n",
    "假设设置如下：\n",
    "$$H_{0}: \\beta_{j}=\\beta_{j 0} \\leftrightarrow H_{1}: \\beta_{j} \\neq \\beta_{j 0}$$\n",
    "则单参数检验统计量为\n",
    "$$\n",
    "\\frac{\\hat{\\beta}_{j}-\\beta_{j}}{s d\\left(\\hat{\\beta}_{j}\\right)} \\Rightarrow N(0,1)\n",
    "$$\n",
    "该统计量渐进服从标准正态分布，可以看到，python中播报的也是z统计量的p值。"
   ]
  },
  {
   "cell_type": "code",
   "execution_count": 5,
   "metadata": {},
   "outputs": [
    {
     "name": "stdout",
     "output_type": "stream",
     "text": [
      "logistic回归报告\n",
      "==============================================================================\n",
      "                 coef    std err          z      P>|z|      [0.025      0.975]\n",
      "------------------------------------------------------------------------------\n",
      "Intercept     -8.8692      4.636     -1.913      0.056     -17.955       0.217\n",
      "ARA            4.8797      1.492      3.270      0.001       1.955       7.805\n",
      "ASSET          0.2466      0.224      1.100      0.271      -0.193       0.686\n",
      "ATO           -0.5074      0.657     -0.772      0.440      -1.796       0.781\n",
      "ROA           -0.6366      6.224     -0.102      0.919     -12.835      11.562\n",
      "GROWTH        -0.8333      0.567     -1.470      0.142      -1.945       0.278\n",
      "LEV            2.3542      1.201      1.960      0.050      -0.001       4.709\n",
      "SHARE         -0.0111      0.011     -0.997      0.319      -0.033       0.011\n",
      "==============================================================================\n",
      "--------------------------------------------------\n",
      "probit回归报告\n",
      "==============================================================================\n",
      "                 coef    std err          z      P>|z|      [0.025      0.975]\n",
      "------------------------------------------------------------------------------\n",
      "Intercept     -4.9545      2.210     -2.242      0.025      -9.286      -0.623\n",
      "ARA            2.6467      0.767      3.450      0.001       1.143       4.150\n",
      "ASSET          0.1354      0.107      1.263      0.207      -0.075       0.346\n",
      "ATO           -0.2329      0.306     -0.761      0.447      -0.833       0.367\n",
      "ROA            0.6696      2.504      0.267      0.789      -4.239       5.578\n",
      "GROWTH        -0.4733      0.274     -1.727      0.084      -1.010       0.064\n",
      "LEV            1.1952      0.590      2.025      0.043       0.038       2.352\n",
      "SHARE         -0.0050      0.005     -0.959      0.337      -0.015       0.005\n",
      "==============================================================================\n"
     ]
    }
   ],
   "source": [
    "print('logistic回归报告')\n",
    "print(st_logit.summary().tables[1])\n",
    "print('--------------------------------------------------')\n",
    "print('probit回归报告')\n",
    "print(st_probit.summary().tables[1])"
   ]
  },
  {
   "cell_type": "markdown",
   "metadata": {},
   "source": [
    "**· 多参数联合显著性检验**\n",
    "\n",
    "在Logit模型与Probit模型中，我们同样可以检验部分因素的统计显著性，且检验的思想依旧是比较有约束模型与无约束模型的“差异度”。与多元线性回归模型不一样的是，分类模型没有残差平方和RSS的概念，那么联合检验的检验统计量自然也不是原来的F统计量了。但是，在似然理论下，存在一个比残差平方和更广泛的概念——离差(Deviance)，定义为\n",
    "$$\n",
    "\\,\\,\\mathrm{Deviance} =-2\\cdot log\\left( likelihood(model) \\right) \n",
    "$$\n",
    "它是-2倍的模型对数似然比，而模型的对数似然比在summary播报中正是指标Log-Likelihood。\n",
    "\n",
    "当两个模型的离差足够大时\n",
    "$$\n",
    "D_{r}-D_{u r}>C\n",
    "$$\n",
    "我们便可以拒绝原假设，认为参数是联合显著的。\n",
    "\n",
    "与其他假设检验一样，我们需要知道该检验所采用的检验统计量及其服从的分布，计算p值后再判断是否拒绝原假设。在这个检验中，似然比检验统计量定义为\n",
    "$$\n",
    "L R=2\\left(l_{u r}-l_{r}\\right)=D_{r}-D_{u r} \\sim^{H_{0}} \\chi_{q}^{2}\n",
    "$$\n",
    "它服从自由度为约束个数$q$的卡方分布，因此我们需要用卡方分布累积分布函数。\n",
    "\n",
    "我们用python实现logit模型多参数显著性检验，原假设设为\n",
    "$$\n",
    "H_{0}: \\beta_{1}=\\beta_{2}=\\cdots=\\beta_{7}=0\n",
    "$$"
   ]
  },
  {
   "cell_type": "code",
   "execution_count": 6,
   "metadata": {},
   "outputs": [
    {
     "name": "stdout",
     "output_type": "stream",
     "text": [
      "Optimization terminated successfully.\n",
      "         Current function value: 0.206192\n",
      "         Iterations 7\n",
      "联合检验的p值为：7.477102949763221e-05\n"
     ]
    }
   ],
   "source": [
    "# 训练有约束模型\n",
    "st_logit_r=sm.formula.logit('ST~1',data=ST).fit()\n",
    "\n",
    "# 计算检验统计量\n",
    "st_logit_ll=st_logit.llf\n",
    "st_logit_r_ll=st_logit_r.llf\n",
    "LR=2*(st_logit_ll-st_logit_r_ll)\n",
    "\n",
    "# 计算p值\n",
    "pvalue=stats.chi2.sf(LR,7)\n",
    "print('联合检验的p值为：{}'.format(pvalue))"
   ]
  },
  {
   "cell_type": "markdown",
   "metadata": {},
   "source": [
    "## 1.5 分类预测"
   ]
  },
  {
   "cell_type": "markdown",
   "metadata": {},
   "source": [
    "### 1.5.1 模型预测的原理"
   ]
  },
  {
   "cell_type": "markdown",
   "metadata": {},
   "source": [
    "模型训练完成后，我们就可以针对给定的数据进行预测了，在这里我们以Logit模型为例，简述模型预测的原理。\n",
    "\n",
    "对于一组给定的解释变量取值$x_0$，我们将之代入模型中计算概率值$p(x)$\n",
    "$$\n",
    "\\hat{p}\\left(x_{0}\\right)=\\frac{e^{x_{0}^{\\prime} \\hat{\\beta}}}{1+e^{x_{0}^{\\prime} \\hat{\\beta}}}\n",
    "$$\n",
    "这一概率是在样本自变量$x=x_0$下，$y_0=1$的概率。"
   ]
  },
  {
   "cell_type": "code",
   "execution_count": 7,
   "metadata": {},
   "outputs": [
    {
     "name": "stdout",
     "output_type": "stream",
     "text": [
      "[0.17513856 0.2029176  0.20690489 0.16213708 0.67290575]\n"
     ]
    }
   ],
   "source": [
    "# 输出st_logit模型对ST数据集前五个样本的预测p(x)\n",
    "logit_pred=st_logit.predict()\n",
    "print(logit_pred[:5])"
   ]
  },
  {
   "cell_type": "markdown",
   "metadata": {},
   "source": [
    "\n",
    "有了计算出来的概率，接下来就要根据概率判断样本应当被划分为1类还是0类。如何判断呢？我们可以规定一个阈值$\\alpha$，当概率$p(x)>\\alpha$时，样本被划分为1类，否则划分为0类。即\n",
    "$$\n",
    "\\hat{y}_{0}= \\begin{cases}1, & \\hat{p}\\left(x_{0}\\right)>\\alpha \\\\ 0, & \\text { Otherwise }\\end{cases}\n",
    "$$\n",
    "一般情况下，阈值$\\alpha$默认为0.5。"
   ]
  },
  {
   "cell_type": "code",
   "execution_count": 8,
   "metadata": {},
   "outputs": [
    {
     "name": "stdout",
     "output_type": "stream",
     "text": [
      "前五个样本的预测结果：[0, 0, 0, 0, 1]\n"
     ]
    }
   ],
   "source": [
    "# 我们构建一个判定函数，使其可以输出st_logit模型对ST数据集前五个样本在阈值为0.5时的预测判定\n",
    "logit_res=list()\n",
    "for i in np.arange(len(logit_pred)):\n",
    "    if logit_pred[i]>0.5: #阈值\n",
    "        logit_res.append(1)\n",
    "    else:\n",
    "        logit_res.append(0)\n",
    "\n",
    "# 输出前五个样本的预测\n",
    "print('前五个样本的预测结果：{}'.format(logit_res[:5]))"
   ]
  },
  {
   "cell_type": "markdown",
   "metadata": {},
   "source": [
    "### 1.5.2 预测结果呈现——混淆矩阵与多指标"
   ]
  },
  {
   "cell_type": "markdown",
   "metadata": {},
   "source": [
    "使用模型完成预测后，我们想要直观地获知模型预测的效果——模型预测正确率是多少？有多少ST=1样本被正确预测了，又有多少ST=0的样本被正确预测了？仅仅依靠预测正确率，我们可以全面地评判模型的预测性能吗？是否还有其他分类指标可供我们参考？本小节我们将探讨这些问题。值得注意的是，本小节的内容适用于评判各种分类模型的预测效果，不仅仅适用于线性分类模型。\n",
    "\n",
    "我们将先介绍混淆矩阵，再介绍各种分类指标，因为这些分类指标的计算都依赖于混淆矩阵中的常量。"
   ]
  },
  {
   "cell_type": "markdown",
   "metadata": {},
   "source": [
    "**· 混淆矩阵**\n",
    "\n",
    "使用模型完成预测后，我们想要直观地获知模型预测的效果——模型预测正确率是多少？有多少ST=1样本被正确预测了，又有多少ST=0的样本被正确预测了？关于这些问题，我们可以使用分类问题中常用的工具——**混淆矩阵**来解决。\n",
    "\n",
    "对于二分类问题，混淆矩阵的形式如下图所示"
   ]
  },
  {
   "cell_type": "code",
   "execution_count": 9,
   "metadata": {},
   "outputs": [
    {
     "data": {
      "image/png": "[encoded data removed]",
      "text/plain": [
       "<Figure size 432x288 with 1 Axes>"
      ]
     },
     "metadata": {
      "needs_background": "light"
     },
     "output_type": "display_data"
    }
   ],
   "source": [
    "import mglearn\n",
    "mglearn.plots.plot_binary_confusion_matrix()"
   ]
  },
  {
   "cell_type": "markdown",
   "metadata": {},
   "source": [
    "在分类问题中，negative通常指代“反类”，分类标签通常设置为0；positive通常指代“正类”，分类标签通常设置为1。在二分类混淆矩阵中，横行表示样本实际的属性，纵列表示样本被模型预测的属性，如果两者不一致(FN/FP)就意味着预测错误，如果两者一致则意味着预测正确(TN/TP)。\n"
   ]
  },
  {
   "cell_type": "markdown",
   "metadata": {},
   "source": [
    "<img src=\"./images/混淆矩阵.png\">"
   ]
  },
  {
   "cell_type": "markdown",
   "metadata": {},
   "source": [
    "\n",
    "在阈值0.5的前提下，logit模型的预测结果如下"
   ]
  },
  {
   "cell_type": "code",
   "execution_count": 10,
   "metadata": {},
   "outputs": [
    {
     "data": {
      "text/plain": [
       "array([[647,   1],\n",
       "       [ 35,   1]], dtype=int64)"
      ]
     },
     "execution_count": 10,
     "metadata": {},
     "output_type": "execute_result"
    }
   ],
   "source": [
    "from sklearn.metrics import confusion_matrix\n",
    "confusion_matrix(ST.ST,logit_res) # 注意：第一个值输入的是真实的标签集，第二个值输入的是预测的标签集"
   ]
  },
  {
   "cell_type": "markdown",
   "metadata": {},
   "source": [
    "**· 多分类指标——分类精度真的普适吗？**"
   ]
  },
  {
   "cell_type": "markdown",
   "metadata": {},
   "source": [
    "我们紧接上面的混淆矩阵讨论有关分类指标的问题。\n",
    "\n",
    "我们先计算一波在阈值$\\alpha=0.5$下，logit模型的分类精度（也就是分类正确率），分类精度的公式为\n",
    "$$\n",
    "Accuracy=\\frac{TP+TN}{TP+TN+FP+FN}\n",
    "$$"
   ]
  },
  {
   "cell_type": "code",
   "execution_count": 11,
   "metadata": {},
   "outputs": [
    {
     "name": "stdout",
     "output_type": "stream",
     "text": [
      "分类精度为0.9473684210526315\n"
     ]
    }
   ],
   "source": [
    "# 计算logits模型分类精度\n",
    "logit_accuracy=(647+1)/(647+1+35+1)\n",
    "print('分类精度为{}'.format(logit_accuracy))"
   ]
  },
  {
   "cell_type": "markdown",
   "metadata": {},
   "source": [
    "看上去分类精度接近95%，是一个非常不错的表现。但是我们稍加观察就会发现问题没有那么简单：在648个ST=0样本中，有647个样本被正确分类，只有1个样本被错误分类；但是在36个ST=1样本中，高达35个样本被错误分类，这说明logit模型在这个阈值下完全丧失了对1样本的预测能力。这是模型非常糟糕的表现，然而如果我们只关注到了约95%的高分类精度，我们会错误地认为模型表现得很好。\n",
    "\n",
    "这种样本种类分布极其不均衡的现象被称为“样本不均衡”，对于这种样本的模型分类预测效果判断，仅靠分类精度是远远不够的，我们需要引入以下几个指标来解决这一问题——精确率、召回率、F分数。\n",
    "\n",
    "**精确率(Precision)** 衡量的是所有被预测为正类的样本中，预测正确的比例，公式为：\n",
    "$$\n",
    "Precision=\\frac{TP}{TP+FP}\n",
    "$$"
   ]
  },
  {
   "cell_type": "code",
   "execution_count": 12,
   "metadata": {},
   "outputs": [
    {
     "name": "stdout",
     "output_type": "stream",
     "text": [
      "精确率为0.5\n"
     ]
    }
   ],
   "source": [
    "# 以st=1为正类，计算logits模型精确率\n",
    "logit_precision=(1)/(1+1)\n",
    "print('精确率为{}'.format(logit_precision))"
   ]
  },
  {
   "cell_type": "markdown",
   "metadata": {},
   "source": [
    "**召回率(Recall)** 衡量的是所有正类样本中，预测正确的比例，公式为：\n",
    "$$\n",
    "\\mathrm{Re}call=\\frac{TP}{TP+FN}\n",
    "$$"
   ]
  },
  {
   "cell_type": "code",
   "execution_count": 13,
   "metadata": {},
   "outputs": [
    {
     "name": "stdout",
     "output_type": "stream",
     "text": [
      "召回率为0.027777777777777776\n"
     ]
    }
   ],
   "source": [
    "# 以st=1为正类，计算logits模型召回率\n",
    "logit_recall=(1)/(1+35)\n",
    "print('召回率为{}'.format(logit_recall))"
   ]
  },
  {
   "cell_type": "markdown",
   "metadata": {},
   "source": [
    "这两个指标侧重点各有不同。如果我们的分类目标是限制假正例（ST=0被预测为ST=1），那么精确率就可以很好的度量；如果我们想限制假反例（ST=1被预测为ST=0），那么召回率就可以很好的度量。具体采用何种指标评判模型，取决于我们分类的需求，我们举两个例子帮助大家理解。\n",
    "\n",
    "**ex1.** 垃圾短信为正类1，正常短信为反类0\n",
    "\n",
    "我们在进行垃圾短信分类时，将垃圾短信正确预测固然重要，但是我们更要防止将正常短信预测为垃圾短信（message=0被预测为message=1），因为遗漏正常短信的代价远远大于遗漏垃圾短信，此时，以垃圾短信为正类的精确率就是一个很好的度量指标。\n",
    "\n",
    "**ex2.** 有癌症为正类1，无癌症为反类0\n",
    "\n",
    "我们对病人进行癌症诊断时，一旦将实际上有癌症的病人预测为无癌症（cancer=1被预测为cancer=0），癌症病人将错失最佳治疗时机而产生危险，因此遗漏有癌症的代价远远大于遗漏无癌症，此时，以有癌症为正类的召回率就是一个很好的度量指标。"
   ]
  },
  {
   "cell_type": "markdown",
   "metadata": {},
   "source": [
    "**F分数(F-score)** 是精确率与召回率的调和平均，是两者的综合取舍，公式为：\n",
    "$$\n",
    "F-score=2\\cdot \\frac{precision\\cdot recall}{precision+recall}\n",
    "$$"
   ]
  },
  {
   "cell_type": "code",
   "execution_count": 14,
   "metadata": {},
   "outputs": [
    {
     "name": "stdout",
     "output_type": "stream",
     "text": [
      "F分数为0.05263157894736842\n"
     ]
    }
   ],
   "source": [
    "# 以st=1为正类，计算logits模型F分数\n",
    "logit_f1=2*logit_recall*logit_precision/(logit_recall+logit_precision)\n",
    "print('F分数为{}'.format(logit_f1))"
   ]
  },
  {
   "cell_type": "markdown",
   "metadata": {},
   "source": [
    "事实上，我们还可以使用一个输出以上所有指标的函数。"
   ]
  },
  {
   "cell_type": "code",
   "execution_count": 15,
   "metadata": {},
   "outputs": [
    {
     "name": "stdout",
     "output_type": "stream",
     "text": [
      "              precision    recall  f1-score   support\n",
      "\n",
      "           0       0.95      1.00      0.97       648\n",
      "           1       0.50      0.03      0.05        36\n",
      "\n",
      "    accuracy                           0.95       684\n",
      "   macro avg       0.72      0.51      0.51       684\n",
      "weighted avg       0.93      0.95      0.92       684\n",
      "\n"
     ]
    }
   ],
   "source": [
    "from sklearn.metrics import classification_report\n",
    "print(classification_report(ST.ST,logit_res)) # 注意：第一个值输入的是真实的标签集，第二个值输入的是预测的标签集"
   ]
  },
  {
   "cell_type": "markdown",
   "metadata": {},
   "source": [
    "这个函数会输出以0为正类、以1为正类的精确率、召回率、f分数（实际上这根据我们传入的标签集内的标签来定）。第一行就是以ST=0为正类的三种指标，第二行就是以ST=1为正类的三种指标，这也正是我们前面手动计算的三个指标。"
   ]
  },
  {
   "cell_type": "markdown",
   "metadata": {},
   "source": [
    "### 1.5.3 对抗不平衡数据集——改变阈值"
   ]
  },
  {
   "cell_type": "markdown",
   "metadata": {},
   "source": [
    "我们在前面看到了在阈值$\\alpha=0.5$下，logit模型对ST=1的小样本的分类非常糟糕，这是为什么呢？\n",
    "\n",
    "事实上，不平衡的数据集会导致模型的训练产生偏好性，由于ST=0的样本远远多于ST=1的样本，模型会更多地学习到ST=0的样本特征，而对ST=1的样本特征学习不足，于是对于一个未知样本，模型会更倾向于将它预测成大样本的类别。\n",
    "\n",
    "在数学层面上，由于我们的概率$p$本质上是$P(y=1 \\mid x)$，但是$y=0$样本却占了大多数，于是各样本预测出来的概率$p$将普遍偏小（小于0.5），我们可以观察一下。"
   ]
  },
  {
   "cell_type": "code",
   "execution_count": 16,
   "metadata": {},
   "outputs": [
    {
     "name": "stdout",
     "output_type": "stream",
     "text": [
      "[False False False False  True False False False False False  True False\n",
      " False False False False False False False False False False False False\n",
      " False False False False False False False False False False False False\n",
      " False False False False False False False False False False False False\n",
      " False False]\n"
     ]
    }
   ],
   "source": [
    "# 观察前50个样本的预测p\n",
    "print(logit_pred[:50]>0.5)"
   ]
  },
  {
   "cell_type": "markdown",
   "metadata": {},
   "source": [
    "如何解决这一问题呢？既然样本的预测p普遍偏小，我们可以降低“门槛”$\\alpha$，让其等于一个很小的数，这样子又可以有更多的样本被预测到ST=1的行列当中了。"
   ]
  },
  {
   "cell_type": "code",
   "execution_count": 17,
   "metadata": {},
   "outputs": [
    {
     "name": "stdout",
     "output_type": "stream",
     "text": [
      "[[463 185]\n",
      " [ 11  25]]\n",
      "              precision    recall  f1-score   support\n",
      "\n",
      "           0       0.98      0.71      0.83       648\n",
      "           1       0.12      0.69      0.20        36\n",
      "\n",
      "    accuracy                           0.71       684\n",
      "   macro avg       0.55      0.70      0.51       684\n",
      "weighted avg       0.93      0.71      0.79       684\n",
      "\n"
     ]
    }
   ],
   "source": [
    "logit_res=list()\n",
    "for i in np.arange(len(logit_pred)):\n",
    "    if logit_pred[i]>0.0526: #阈值\n",
    "        logit_res.append(1)\n",
    "    else:\n",
    "        logit_res.append(0)\n",
    "\n",
    "# 混淆矩阵\n",
    "print(confusion_matrix(ST.ST,logit_res))\n",
    "\n",
    "# 综合报告\n",
    "print(classification_report(ST.ST,logit_res))"
   ]
  },
  {
   "cell_type": "markdown",
   "metadata": {},
   "source": [
    "可以发现，在调整了阈值后，以ST=1为正类的召回率显著提升，更多的正类样本被正确划分了。\n",
    "\n",
    "但与此同时，以ST=1为正类的精确率却下降了很多，假反例大大增加，这就是调整阈值所付出的代价。事实上，调整阈值是一把“双刃剑”，对于一个既定的模型，改变阈值并不会改变模型的预测性能，它只能改变样本预测的分布，使分布更符合我们实际的需求。如果需要改进预测效果，要么换一种精度更高的模型，要么进行调参处理，我们本节课不对这些内容进行讨论，感兴趣的同学可以关注我们后续有关机器学习的课程。"
   ]
  },
  {
   "cell_type": "markdown",
   "metadata": {},
   "source": [
    "# 2. 无序多分类问题"
   ]
  },
  {
   "cell_type": "markdown",
   "metadata": {},
   "source": [
    "介绍完了二分类Logistic回归，我们现在简单地学习一下无序多分类Logistic回归。有关二分类Logistic回归的研究起步早，理论与应用都相当成熟。相比之下，多分类Logistic回归的研究就相对滞后了，statsmodels包中似乎也找不到多分类Logistic回归的函数，因此本章节我们将使用机器学习包sklearn中的LogisticRegression函数。sklearn也具有做Logistic回归的功能，但它注重预测结果输出，而在统计推断结果的可视化上，sklearn做的远远不如statsmodels。因此本章节我们不介绍多分类Logistic回归的统计推断，只学习如何预测。"
   ]
  },
  {
   "cell_type": "markdown",
   "metadata": {},
   "source": [
    "## 2.1 多分类Logistic回归的两种算法"
   ]
  },
  {
   "cell_type": "markdown",
   "metadata": {},
   "source": [
    "K类别的多分类Logistic回归主要有两种：一种是修改概率映射函数，将其中一个类作为基类，通过修改过后的映射函数获得k-1个对数胜率；另一种是“一对其余”(one-vs-rest)，对每个类别都建立一个二分类Logistic回归，将本类别的样本定义为0，其余类别的样本定义为1，在所有类别的分类器中，概率$p$最高的类别就是实际判定的类别。\n",
    "\n",
    "这么说可能有点抽象，我们接着往下看。"
   ]
  },
  {
   "cell_type": "markdown",
   "metadata": {},
   "source": [
    "### 2.1.1 算法1：修改概率映射函数"
   ]
  },
  {
   "cell_type": "markdown",
   "metadata": {},
   "source": [
    "**· 原理介绍**\n",
    "\n",
    "我们回顾一下二分类Logistic回归的模型\n",
    "$$\n",
    "\\log \\left(\\frac{p(x)}{1-p(x)}\\right)=\\beta_{0}+\\beta_{1} x_{1}+\\cdots+\\beta_{k} x_{k}\n",
    "$$\n",
    "实际上我们可以将等式稍微变化一下\n",
    "$$\n",
    "\\log \\left( \\frac{p(y=1|x)}{p(y=0|x)} \\right) =\\beta _0+\\beta _1x_1+\\cdots +\\beta _kx_k\n",
    "$$\n",
    "它实际上比较的是1类和0类的概率。\n",
    "\n",
    "而在多分类问题上，类别不仅仅有0和1，怎么比较其他类别的概率呢？我们可以选取一个类别作为基类（在这里我们选择0类），像上述公式一样分别计算0类与剩余类别之间的对数概率之比\n",
    "$$\n",
    "g_m\\left( x \\right) =\\log \\left( \\frac{p(y=m|x)}{p(y=0|x)} \\right) =\\beta _{m0}+\\beta _{m1}x_1+\\cdots +\\beta _{mk}x_k\\text{，}m=1,…,M\n",
    "$$\n",
    "有M个类别，就会有M-1个函数，这些函数的实际意义是“目标类别$j$与基类$0$的对数胜率”。\n",
    "\n",
    "计算出了M-1个函数$g_m\\left( x \\right)$后，我们便可以使用一个变式的Logit映射函数计算每个类别的条件概率$P(y=m\\mid \\mathbf{x})$\n",
    "$$\n",
    "P(y=m\\mid \\mathbf{x})=\\frac{e^{g_m(\\mathbf{x})}}{1+\\sum_{m=1}^{M-1}{e^{g_m(\\mathbf{x})}}}\n",
    "$$"
   ]
  },
  {
   "cell_type": "markdown",
   "metadata": {},
   "source": [
    "在进行模型预测的时候，我们可以先选出这M-1个概率中的最大概率者，在用这个概率与阈值$\\alpha$进行比较。"
   ]
  },
  {
   "cell_type": "markdown",
   "metadata": {},
   "source": [
    "**· 题外话**\n",
    "\n",
    "这种算法是多分类Logistic回归的一种“标准的算法”，许多统计软件中的多分类Logistic回归所采用的算法就是这种算法，如spss、stata等等。笔者暂时没能在statsmodels包找到这种算法的api，因此本小节就不安排python实操了，如果大家学有余力，可以在statsmodels官方文档中自行探索，或者使用spss做这方面的统计分析。"
   ]
  },
  {
   "cell_type": "markdown",
   "metadata": {},
   "source": [
    "### 2.1.2 算法2：一对其余算法"
   ]
  },
  {
   "cell_type": "markdown",
   "metadata": {},
   "source": [
    "许多线性分类模型只适用于二分类问题，它们不能像Logistic回归一样有多分类的推广。于是，将二分类算法推广至多分类算法的一种常见方法就是“一对其余”。这种方法的思想非常简单，就是对每个类别都学习一个二分类模型，将这个类别与所有其余类别尽量分开，这样会生成与类别个数M相同个数的分类器，每个分类器都会输出一个概率，概率最高者“胜出”，并将这个类别的标签返回作为预测结果。\n",
    "\n",
    "sklearn中的LogisticRegression的多分类形式就是采用了这样的算法。我们用一个含有三个类别、两个特征的玩具数据集来实操一波，来看看模型是如何处理多分类问题的。"
   ]
  },
  {
   "cell_type": "code",
   "execution_count": 63,
   "metadata": {},
   "outputs": [],
   "source": [
    "# 加载基础包\n",
    "import mglearn\n",
    "import matplotlib.pyplot as plt\n",
    "from IPython.display import display"
   ]
  },
  {
   "cell_type": "code",
   "execution_count": 39,
   "metadata": {},
   "outputs": [
    {
     "name": "stdout",
     "output_type": "stream",
     "text": [
      "前5个样本的X特征 [[-7.72642091 -8.39495682]\n",
      " [ 5.45339605  0.74230537]\n",
      " [-2.97867201  9.55684617]\n",
      " [ 6.04267315  0.57131862]\n",
      " [-6.52183983 -6.31932507]]\n",
      "前5个样本的y标签 [2 1 0 1 2]\n"
     ]
    }
   ],
   "source": [
    "# 加载数据集\n",
    "from sklearn.datasets import make_blobs\n",
    "X,y=make_blobs(random_state=42) \n",
    "print('前5个样本的X特征',X[:5])\n",
    "print('前5个样本的y标签',y[:5])"
   ]
  },
  {
   "cell_type": "code",
   "execution_count": 41,
   "metadata": {},
   "outputs": [
    {
     "data": {
      "text/plain": [
       "<matplotlib.legend.Legend at 0x127c8445760>"
      ]
     },
     "execution_count": 41,
     "metadata": {},
     "output_type": "execute_result"
    },
    {
     "data": {
      "image/png": "[encoded data removed]",
      "text/plain": [
       "<Figure size 432x288 with 1 Axes>"
      ]
     },
     "metadata": {
      "needs_background": "light"
     },
     "output_type": "display_data"
    }
   ],
   "source": [
    "# 利用散点图对数据集进行可视化\n",
    "mglearn.discrete_scatter(X[:,0],X[:,1],y)\n",
    "plt.xlabel('feature 0')\n",
    "plt.ylabel('feature 1')\n",
    "plt.legend(['class 0','class 1','class 2'])\n"
   ]
  },
  {
   "cell_type": "markdown",
   "metadata": {},
   "source": [
    "训练一个多分类Logistic回归模型，对上述样本进行分类。"
   ]
  },
  {
   "cell_type": "code",
   "execution_count": 44,
   "metadata": {},
   "outputs": [
    {
     "name": "stdout",
     "output_type": "stream",
     "text": [
      "[-1.63102014  1.85764971 -0.22662957]\n",
      "[[-0.38486163  0.62874226]\n",
      " [ 0.74106233 -0.17664082]\n",
      " [-0.3562007  -0.45210144]]\n"
     ]
    }
   ],
   "source": [
    "from sklearn.linear_model import LogisticRegression\n",
    "logis_multi=LogisticRegression(multi_class='multinomial').fit(X,y)\n",
    "# 不同于statsmodels,在sklearn中我们需要在接口fit()中填入训练模型的数据，X为自变量数据，y为因变量数据\n",
    "\n",
    "# 查看三个分类模型的模型参数\n",
    "## 截距\n",
    "print(logis_multi.intercept_)\n",
    "## 系数\n",
    "print(logis_multi.coef_)\n"
   ]
  },
  {
   "cell_type": "markdown",
   "metadata": {},
   "source": [
    "根据输出，我们可以给出三个“一对其余”的模型公式，如第一个模型的公式就是\n",
    "$$\n",
    "\\log \\left( \\frac{p\\left( y=0|x \\right)}{p\\left( y\\ne 0|x \\right)} \\right) =-1.63102014+-0.38486163x_1+0.62874226x_2\n",
    "$$\n",
    "我们将这三个分类器所代表的直线画到上图中"
   ]
  },
  {
   "cell_type": "code",
   "execution_count": 46,
   "metadata": {},
   "outputs": [
    {
     "data": {
      "text/plain": [
       "<matplotlib.legend.Legend at 0x127c84cf490>"
      ]
     },
     "execution_count": 46,
     "metadata": {},
     "output_type": "execute_result"
    },
    {
     "data": {
      "image/png": "[encoded data removed]",
      "text/plain": [
       "<Figure size 432x288 with 1 Axes>"
      ]
     },
     "metadata": {
      "needs_background": "light"
     },
     "output_type": "display_data"
    }
   ],
   "source": [
    "mglearn.discrete_scatter(X[:,0],X[:,1],y)\n",
    "line_x=np.linspace(-15,15)\n",
    "for coef,intercept,color in zip(logis_multi.coef_,logis_multi.intercept_,['b','r','g']):\n",
    "    plt.plot(line_x,-(line_x*coef[0]+intercept)/coef[1],c=color)\n",
    "plt.ylim(-10,15)\n",
    "plt.xlim(-10,8)\n",
    "plt.xlabel('feature 0')\n",
    "plt.ylabel('feature 1')\n",
    "plt.legend(['class 0','class 1','class 2','line class 0','line class 1','line class 2'],loc=(1.01,0.3))"
   ]
  },
  {
   "cell_type": "markdown",
   "metadata": {},
   "source": [
    "我们可以看到，三条直线将样本空间分割成了不同的三角区域，那么哪些区域对应哪个类别呢？我们看看所有区域的预测结果："
   ]
  },
  {
   "cell_type": "code",
   "execution_count": 48,
   "metadata": {},
   "outputs": [
    {
     "data": {
      "text/plain": [
       "<matplotlib.legend.Legend at 0x127c8638610>"
      ]
     },
     "execution_count": 48,
     "metadata": {},
     "output_type": "execute_result"
    },
    {
     "data": {
      "image/png": "[encoded data removed]",
      "text/plain": [
       "<Figure size 432x288 with 1 Axes>"
      ]
     },
     "metadata": {},
     "output_type": "display_data"
    }
   ],
   "source": [
    "mglearn.plots.plot_2d_classification(logis_multi,X,fill=True,alpha=.7)\n",
    "mglearn.discrete_scatter(X[:,0],X[:,1],y)\n",
    "line_x=np.linspace(-15,15)\n",
    "for coef,intercept,color in zip(logis_multi.coef_,logis_multi.intercept_,['b','r','g']):\n",
    "    plt.plot(line_x,-(line_x*coef[0]+intercept)/coef[1],c=color)\n",
    "plt.ylim(-10,15)\n",
    "plt.xlim(-10,8)\n",
    "plt.xlabel('feature 0')\n",
    "plt.ylabel('feature 1')\n",
    "plt.legend(['class 0','class 1','class 2','line class 0','line class 1','line class 2'],loc=(1.01,0.3))"
   ]
  },
  {
   "cell_type": "markdown",
   "metadata": {},
   "source": [
    "对应颜色的区域就是对应类别在三个分类器下划分的判定区域，可以看到，所有样本都被精准地分类。以上展示是为了让大家直观地看到二分类算法是如何使用“一对其余”思想进行多分类的。当然，由于本例中只有两个特征（两个自变量），所以我们可以用二维图像展示分类器所代表的直线与划分的区域，当特征维数大于2时，再用二维平面图展示就比较困难了。不过大家只需要记住，对于某一个具体样本的判别，只需看M个分类器所计算出的概率$p$最高者所代表的类别即可。"
   ]
  },
  {
   "cell_type": "markdown",
   "metadata": {},
   "source": [
    "# 3. 以预测为目的分类问题实操流程——基于sklearn"
   ]
  },
  {
   "cell_type": "markdown",
   "metadata": {},
   "source": [
    "## 3.1 划分训练集/测试集"
   ]
  },
  {
   "cell_type": "markdown",
   "metadata": {},
   "source": [
    "在进行回归分析的学习之前，我们提到过，建模有两个主要的目的：推断与预测。\n",
    "\n",
    "如果我们的目的是推断，则相对而言我们不太会注重考察模型的预测性能；如果我们的目的是预测，那么正确衡量模型的预测性能就显得十分重要了。或许有同学可以注意到，在此之前我们总是将数据集中的全部样本进行模型拟合，再将这些样本进行预测。这样的操作在回归分析中无可厚非，因为回归分析的主要目的是推断数据中可能存在的变量间的相互关系；但是与侧重推断的回归分析不同，在现实问题中人们更关注分类问题的预测部分，因此客观地衡量模型预测性能十分重要。\n",
    "\n",
    "在这个背景下，如果将用于拟合模型的数据再进行预测，我们所得到的预测结果将会过于乐观，就好比如果我们在高考训练时，提前拿到了高考真题卷练手，那么我们实际高考的分数肯定会非常高，这显然是不合理的。因此，我们需要将用于训练模型的数据与用于预测的数据分开，对于训练好的模型来说，预测数据是完全未知的，这样才可以客观的评价模型的预测性能。"
   ]
  },
  {
   "cell_type": "code",
   "execution_count": 58,
   "metadata": {},
   "outputs": [
    {
     "name": "stdout",
     "output_type": "stream",
     "text": [
      "train_size 0.75\n",
      "test_size 0.25\n"
     ]
    },
    {
     "data": {
      "text/plain": [
       "array([1, 0, 0, 2, 2, 1, 2, 0, 2, 0, 2, 0, 1, 0, 1, 2, 2, 0, 2, 1, 0, 2,\n",
       "       1, 2, 1])"
      ]
     },
     "execution_count": 58,
     "metadata": {},
     "output_type": "execute_result"
    }
   ],
   "source": [
    "# 以上面的make_blobs数据集为例\n",
    "\n",
    "# 加载函数\n",
    "from sklearn.model_selection import train_test_split\n",
    "\n",
    "# 数据集切分\n",
    "X_train,X_test,y_train,y_test=train_test_split(X,y,test_size=0.25,random_state=0) # test_size为测试集数据量占原始数据的比例\n",
    "\n",
    "print('train_size',len(X_train)/len(X))\n",
    "print('test_size',len(X_test)/len(X))"
   ]
  },
  {
   "cell_type": "markdown",
   "metadata": {},
   "source": [
    "## 3.2 训练模型/模型预测"
   ]
  },
  {
   "cell_type": "markdown",
   "metadata": {},
   "source": [
    "切分完数据集后，我们便可以进行模型训练了。以logistic回归为例"
   ]
  },
  {
   "cell_type": "code",
   "execution_count": 61,
   "metadata": {},
   "outputs": [
    {
     "name": "stdout",
     "output_type": "stream",
     "text": [
      "[1 0 0 2 2 1 2 0 2 0 2 0 1 0 1 2 2 0 2 1 0 2 1 2 1]\n"
     ]
    }
   ],
   "source": [
    "from sklearn.linear_model import LogisticRegression\n",
    "# 使用训练集进行训练\n",
    "logit_multi=LogisticRegression(multi_class='multinomial').fit(X_train,y_train)\n",
    "# 使用测试集进行预测\n",
    "y_pred=logis_multi.predict(X_test)\n",
    "# 查看预测结果\n",
    "print(y_pred)"
   ]
  },
  {
   "cell_type": "markdown",
   "metadata": {},
   "source": [
    "## 3.3 预测结果分析"
   ]
  },
  {
   "cell_type": "markdown",
   "metadata": {},
   "source": [
    "完成预测后，我们需要对模型的预测结果进行分析，常见的分析指标有：分类精度，精确率，召回率，f分数等；当然，我们可以输出混淆矩阵。"
   ]
  },
  {
   "cell_type": "code",
   "execution_count": 64,
   "metadata": {},
   "outputs": [
    {
     "name": "stdout",
     "output_type": "stream",
     "text": [
      "测试集分类精度 1.0\n"
     ]
    },
    {
     "data": {
      "text/plain": [
       "array([[ 8,  0,  0],\n",
       "       [ 0,  7,  0],\n",
       "       [ 0,  0, 10]], dtype=int64)"
      ]
     },
     "metadata": {},
     "output_type": "display_data"
    },
    {
     "name": "stdout",
     "output_type": "stream",
     "text": [
      "              precision    recall  f1-score   support\n",
      "\n",
      "           0       1.00      1.00      1.00         8\n",
      "           1       1.00      1.00      1.00         7\n",
      "           2       1.00      1.00      1.00        10\n",
      "\n",
      "    accuracy                           1.00        25\n",
      "   macro avg       1.00      1.00      1.00        25\n",
      "weighted avg       1.00      1.00      1.00        25\n",
      "\n"
     ]
    }
   ],
   "source": [
    "# 查看分类精度\n",
    "print('测试集分类精度',logis_multi.score(X_test,y_test)) # 传入需要进行预测数据集自变量与真实标签集\n",
    "\n",
    "# 混淆矩阵\n",
    "display(confusion_matrix(y_test,y_pred))\n",
    "\n",
    "# 综合指标\n",
    "print(classification_report(y_test,y_pred))"
   ]
  },
  {
   "cell_type": "markdown",
   "metadata": {},
   "source": [
    "以上就是分类问题最基本的流程，当然对于一个具体的预测任务而言，这些操作肯定是远远不够的，但是任何预测任务都是基于以上三个基本步骤展开的，希望大家能熟练掌握。"
   ]
  },
  {
   "cell_type": "markdown",
   "metadata": {},
   "source": [
    "至此，分类分析的课程已经完成了。本次课程，我们着重介绍了Logistic回归模型在分类问题上的推断与预测、学习了分类模型对样本进行预测的基本原理以及多种分类指标，使大家对分类问题有一个宏观的认知。这些只是分类分析的入门，接下来就是漫长的机器学习与深度学习之路，欲知后事如何，请听下回分解！"
   ]
  },
  {
   "cell_type": "markdown",
   "metadata": {},
   "source": [
    "# 作业1——二分类：信贷风险评估"
   ]
  },
  {
   "cell_type": "markdown",
   "metadata": {},
   "source": [
    "我们想知道银行贷款审批中是否存在种族歧视，这是一个非常典型的“推断”问题，于是可采用线性回归分类模型对该问题进行探究。本次习题使用数据loanapp.dta，所使用的变量解释如下：\n",
    "\n",
    "因变量：\n",
    "<br>\n",
    "· approve：贷款是否被批准（0为不批准、1为批准）\n",
    "\n",
    "自变量：\n",
    "<br>\n",
    "· white：种族哑变量（0为黑人，1为白人）\n",
    "<br>\n",
    "· obrat：债务占比\n",
    "\n",
    "由于数据集含有缺失值，我们先去除含有缺失值的样本（非习题）"
   ]
  },
  {
   "cell_type": "code",
   "execution_count": 52,
   "metadata": {},
   "outputs": [
    {
     "data": {
      "text/html": [
       "<div>\n",
       "<style scoped>\n",
       "    .dataframe tbody tr th:only-of-type {\n",
       "        vertical-align: middle;\n",
       "    }\n",
       "\n",
       "    .dataframe tbody tr th {\n",
       "        vertical-align: top;\n",
       "    }\n",
       "\n",
       "    .dataframe thead th {\n",
       "        text-align: right;\n",
       "    }\n",
       "</style>\n",
       "<table border=\"1\" class=\"dataframe\">\n",
       "  <thead>\n",
       "    <tr style=\"text-align: right;\">\n",
       "      <th></th>\n",
       "      <th>approve</th>\n",
       "      <th>white</th>\n",
       "      <th>hrat</th>\n",
       "      <th>obrat</th>\n",
       "      <th>loanprc</th>\n",
       "      <th>unem</th>\n",
       "      <th>male</th>\n",
       "      <th>married</th>\n",
       "      <th>dep</th>\n",
       "      <th>sch</th>\n",
       "      <th>cosign</th>\n",
       "      <th>chist</th>\n",
       "      <th>pubrec</th>\n",
       "      <th>mortlat1</th>\n",
       "      <th>mortlat2</th>\n",
       "      <th>vr</th>\n",
       "    </tr>\n",
       "  </thead>\n",
       "  <tbody>\n",
       "    <tr>\n",
       "      <th>1</th>\n",
       "      <td>0.0</td>\n",
       "      <td>1.0</td>\n",
       "      <td>22.540001</td>\n",
       "      <td>34.099998</td>\n",
       "      <td>0.800000</td>\n",
       "      <td>3.2</td>\n",
       "      <td>1.0</td>\n",
       "      <td>1.0</td>\n",
       "      <td>1.0</td>\n",
       "      <td>1.0</td>\n",
       "      <td>0.0</td>\n",
       "      <td>1.0</td>\n",
       "      <td>0.0</td>\n",
       "      <td>0.0</td>\n",
       "      <td>0.0</td>\n",
       "      <td>1.0</td>\n",
       "    </tr>\n",
       "    <tr>\n",
       "      <th>2</th>\n",
       "      <td>1.0</td>\n",
       "      <td>1.0</td>\n",
       "      <td>19.000000</td>\n",
       "      <td>26.000000</td>\n",
       "      <td>0.895105</td>\n",
       "      <td>3.9</td>\n",
       "      <td>1.0</td>\n",
       "      <td>0.0</td>\n",
       "      <td>0.0</td>\n",
       "      <td>1.0</td>\n",
       "      <td>0.0</td>\n",
       "      <td>1.0</td>\n",
       "      <td>0.0</td>\n",
       "      <td>0.0</td>\n",
       "      <td>0.0</td>\n",
       "      <td>0.0</td>\n",
       "    </tr>\n",
       "    <tr>\n",
       "      <th>3</th>\n",
       "      <td>1.0</td>\n",
       "      <td>1.0</td>\n",
       "      <td>24.000000</td>\n",
       "      <td>37.000000</td>\n",
       "      <td>0.600000</td>\n",
       "      <td>3.1</td>\n",
       "      <td>1.0</td>\n",
       "      <td>1.0</td>\n",
       "      <td>0.0</td>\n",
       "      <td>1.0</td>\n",
       "      <td>0.0</td>\n",
       "      <td>0.0</td>\n",
       "      <td>1.0</td>\n",
       "      <td>0.0</td>\n",
       "      <td>0.0</td>\n",
       "      <td>1.0</td>\n",
       "    </tr>\n",
       "    <tr>\n",
       "      <th>4</th>\n",
       "      <td>1.0</td>\n",
       "      <td>1.0</td>\n",
       "      <td>25.100000</td>\n",
       "      <td>32.099998</td>\n",
       "      <td>0.895522</td>\n",
       "      <td>4.3</td>\n",
       "      <td>1.0</td>\n",
       "      <td>1.0</td>\n",
       "      <td>0.0</td>\n",
       "      <td>0.0</td>\n",
       "      <td>0.0</td>\n",
       "      <td>1.0</td>\n",
       "      <td>0.0</td>\n",
       "      <td>0.0</td>\n",
       "      <td>0.0</td>\n",
       "      <td>0.0</td>\n",
       "    </tr>\n",
       "    <tr>\n",
       "      <th>5</th>\n",
       "      <td>1.0</td>\n",
       "      <td>1.0</td>\n",
       "      <td>21.000000</td>\n",
       "      <td>33.000000</td>\n",
       "      <td>0.804348</td>\n",
       "      <td>3.2</td>\n",
       "      <td>1.0</td>\n",
       "      <td>0.0</td>\n",
       "      <td>0.0</td>\n",
       "      <td>0.0</td>\n",
       "      <td>0.0</td>\n",
       "      <td>0.0</td>\n",
       "      <td>0.0</td>\n",
       "      <td>0.0</td>\n",
       "      <td>0.0</td>\n",
       "      <td>0.0</td>\n",
       "    </tr>\n",
       "    <tr>\n",
       "      <th>...</th>\n",
       "      <td>...</td>\n",
       "      <td>...</td>\n",
       "      <td>...</td>\n",
       "      <td>...</td>\n",
       "      <td>...</td>\n",
       "      <td>...</td>\n",
       "      <td>...</td>\n",
       "      <td>...</td>\n",
       "      <td>...</td>\n",
       "      <td>...</td>\n",
       "      <td>...</td>\n",
       "      <td>...</td>\n",
       "      <td>...</td>\n",
       "      <td>...</td>\n",
       "      <td>...</td>\n",
       "      <td>...</td>\n",
       "    </tr>\n",
       "    <tr>\n",
       "      <th>1984</th>\n",
       "      <td>1.0</td>\n",
       "      <td>1.0</td>\n",
       "      <td>20.299999</td>\n",
       "      <td>29.299999</td>\n",
       "      <td>0.897727</td>\n",
       "      <td>4.3</td>\n",
       "      <td>1.0</td>\n",
       "      <td>1.0</td>\n",
       "      <td>0.0</td>\n",
       "      <td>1.0</td>\n",
       "      <td>0.0</td>\n",
       "      <td>1.0</td>\n",
       "      <td>0.0</td>\n",
       "      <td>0.0</td>\n",
       "      <td>0.0</td>\n",
       "      <td>1.0</td>\n",
       "    </tr>\n",
       "    <tr>\n",
       "      <th>1985</th>\n",
       "      <td>1.0</td>\n",
       "      <td>1.0</td>\n",
       "      <td>8.000000</td>\n",
       "      <td>20.000000</td>\n",
       "      <td>0.111111</td>\n",
       "      <td>3.2</td>\n",
       "      <td>1.0</td>\n",
       "      <td>1.0</td>\n",
       "      <td>0.0</td>\n",
       "      <td>1.0</td>\n",
       "      <td>0.0</td>\n",
       "      <td>1.0</td>\n",
       "      <td>0.0</td>\n",
       "      <td>0.0</td>\n",
       "      <td>0.0</td>\n",
       "      <td>0.0</td>\n",
       "    </tr>\n",
       "    <tr>\n",
       "      <th>1986</th>\n",
       "      <td>1.0</td>\n",
       "      <td>1.0</td>\n",
       "      <td>56.099998</td>\n",
       "      <td>60.500000</td>\n",
       "      <td>1.000000</td>\n",
       "      <td>3.2</td>\n",
       "      <td>1.0</td>\n",
       "      <td>1.0</td>\n",
       "      <td>0.0</td>\n",
       "      <td>0.0</td>\n",
       "      <td>0.0</td>\n",
       "      <td>1.0</td>\n",
       "      <td>0.0</td>\n",
       "      <td>0.0</td>\n",
       "      <td>0.0</td>\n",
       "      <td>0.0</td>\n",
       "    </tr>\n",
       "    <tr>\n",
       "      <th>1987</th>\n",
       "      <td>1.0</td>\n",
       "      <td>1.0</td>\n",
       "      <td>16.000000</td>\n",
       "      <td>17.000000</td>\n",
       "      <td>0.455814</td>\n",
       "      <td>3.2</td>\n",
       "      <td>1.0</td>\n",
       "      <td>0.0</td>\n",
       "      <td>0.0</td>\n",
       "      <td>1.0</td>\n",
       "      <td>0.0</td>\n",
       "      <td>1.0</td>\n",
       "      <td>0.0</td>\n",
       "      <td>0.0</td>\n",
       "      <td>0.0</td>\n",
       "      <td>1.0</td>\n",
       "    </tr>\n",
       "    <tr>\n",
       "      <th>1988</th>\n",
       "      <td>0.0</td>\n",
       "      <td>0.0</td>\n",
       "      <td>31.000000</td>\n",
       "      <td>47.000000</td>\n",
       "      <td>0.898649</td>\n",
       "      <td>3.2</td>\n",
       "      <td>0.0</td>\n",
       "      <td>0.0</td>\n",
       "      <td>0.0</td>\n",
       "      <td>1.0</td>\n",
       "      <td>0.0</td>\n",
       "      <td>1.0</td>\n",
       "      <td>0.0</td>\n",
       "      <td>0.0</td>\n",
       "      <td>0.0</td>\n",
       "      <td>1.0</td>\n",
       "    </tr>\n",
       "  </tbody>\n",
       "</table>\n",
       "<p>1971 rows × 16 columns</p>\n",
       "</div>"
      ],
      "text/plain": [
       "      approve  white       hrat      obrat   loanprc  unem  male  married  \\\n",
       "1         0.0    1.0  22.540001  34.099998  0.800000   3.2   1.0      1.0   \n",
       "2         1.0    1.0  19.000000  26.000000  0.895105   3.9   1.0      0.0   \n",
       "3         1.0    1.0  24.000000  37.000000  0.600000   3.1   1.0      1.0   \n",
       "4         1.0    1.0  25.100000  32.099998  0.895522   4.3   1.0      1.0   \n",
       "5         1.0    1.0  21.000000  33.000000  0.804348   3.2   1.0      0.0   \n",
       "...       ...    ...        ...        ...       ...   ...   ...      ...   \n",
       "1984      1.0    1.0  20.299999  29.299999  0.897727   4.3   1.0      1.0   \n",
       "1985      1.0    1.0   8.000000  20.000000  0.111111   3.2   1.0      1.0   \n",
       "1986      1.0    1.0  56.099998  60.500000  1.000000   3.2   1.0      1.0   \n",
       "1987      1.0    1.0  16.000000  17.000000  0.455814   3.2   1.0      0.0   \n",
       "1988      0.0    0.0  31.000000  47.000000  0.898649   3.2   0.0      0.0   \n",
       "\n",
       "      dep  sch  cosign  chist  pubrec  mortlat1  mortlat2   vr  \n",
       "1     1.0  1.0     0.0    1.0     0.0       0.0       0.0  1.0  \n",
       "2     0.0  1.0     0.0    1.0     0.0       0.0       0.0  0.0  \n",
       "3     0.0  1.0     0.0    0.0     1.0       0.0       0.0  1.0  \n",
       "4     0.0  0.0     0.0    1.0     0.0       0.0       0.0  0.0  \n",
       "5     0.0  0.0     0.0    0.0     0.0       0.0       0.0  0.0  \n",
       "...   ...  ...     ...    ...     ...       ...       ...  ...  \n",
       "1984  0.0  1.0     0.0    1.0     0.0       0.0       0.0  1.0  \n",
       "1985  0.0  1.0     0.0    1.0     0.0       0.0       0.0  0.0  \n",
       "1986  0.0  0.0     0.0    1.0     0.0       0.0       0.0  0.0  \n",
       "1987  0.0  1.0     0.0    1.0     0.0       0.0       0.0  1.0  \n",
       "1988  0.0  1.0     0.0    1.0     0.0       0.0       0.0  1.0  \n",
       "\n",
       "[1971 rows x 16 columns]"
      ]
     },
     "execution_count": 52,
     "metadata": {},
     "output_type": "execute_result"
    }
   ],
   "source": [
    "loan=pd.read_stata('./data/loanapp.dta')\n",
    "# 选取要用的变量组成新的数据集\n",
    "loan=loan[[\"approve\",\"white\",\"hrat\",\"obrat\",\"loanprc\",\"unem\",\"male\",\"married\",\"dep\",\"sch\",\"cosign\",\"chist\",\"pubrec\",\"mortlat1\",\"mortlat2\",\"vr\"]]\n",
    "loan.dropna() #去除含缺失值样本"
   ]
  },
  {
   "cell_type": "markdown",
   "metadata": {},
   "source": [
    "**使用python进行实操并回答以下问题**\n",
    "\n",
    "（1）：先考虑一个线性概率模型\n",
    "$$approve = \\beta_0+\\beta_1white+u$$\n",
    "如果存在种族歧视，那么$\\beta_1$的符号应如何？\n",
    "\n",
    "（2）：用OLS估计上述模型，解释参数估计的意义，其显著性如何？在该模型下种族歧视的影响大吗？\n",
    "\n",
    "（3）：在上述模型中加入数据集中的其他所有自变量，此时white系数发生了什么变化？我们仍然可以认为存在黑人歧视现象吗？\n",
    "\n",
    "（4）：允许种族效应与债务占比(obrat)有交互效应，请问交互效应显著吗？请解读这种交互效应。\n",
    "\n",
    "（5）：使用logit模型与probit模型重新（3）中的模型，观察变量系数及其显著性的变化。"
   ]
  },
  {
   "cell_type": "markdown",
   "metadata": {},
   "source": [
    "# 作业2——多分类：鸢尾花分类问题"
   ]
  },
  {
   "cell_type": "markdown",
   "metadata": {},
   "source": [
    "鸢尾花分类问题是经典的多分类问题，我们使用sklearn的logisticRegression求解该问题。"
   ]
  },
  {
   "cell_type": "code",
   "execution_count": 54,
   "metadata": {},
   "outputs": [],
   "source": [
    "# 下载数据集\n",
    "from sklearn.datasets import load_iris\n",
    "iris_dataset=load_iris()\n",
    "\n",
    "# 提取数据集中的自变量集与标签集\n",
    "iris_data=iris_dataset['data'] # 自变量\n",
    "iris_target=iris_dataset['target'] # 标签集"
   ]
  },
  {
   "cell_type": "markdown",
   "metadata": {},
   "source": [
    "**使用python进行实操并回答以下问题**\n",
    "\n",
    "（1）：将原数据集划分为训练集与测试集，两者样本比例为3:1。\n",
    "\n",
    "（2）：使用训练集数据训练logistic回归模型，并分别对训练集与测试集数据进行预测，并将预测的结果分别储存在两个自定义的变量中。\n",
    "\n",
    "（3）：使用函数接口计算出：模型对训练集数据的分类正确率、模型对测试集数据的分类正确率，比较它们孰高孰低，并思考为什么会有这样的差异。\n",
    "\n",
    "（4）：给出测试集数据的混淆矩阵以及精确率、召回率、f分数的综合报告。"
   ]
  },
  {
   "cell_type": "markdown",
   "metadata": {},
   "source": []
  }
 ],
 "metadata": {
  "kernelspec": {
   "display_name": "Python 3.8.12 ('ml')",
   "language": "python",
   "name": "python3"
  },
  "language_info": {
   "codemirror_mode": {
    "name": "ipython",
    "version": 3
   },
   "file_extension": ".py",
   "mimetype": "text/x-python",
   "name": "python",
   "nbconvert_exporter": "python",
   "pygments_lexer": "ipython3",
   "version": "3.8.12"
  },
  "orig_nbformat": 4,
  "vscode": {
   "interpreter": {
    "hash": "d04da679f0afee458c3e357f6d2cf382c79de022618e35f1262af9ecf478f5e1"
   }
  }
 },
 "nbformat": 4,
 "nbformat_minor": 2
}
