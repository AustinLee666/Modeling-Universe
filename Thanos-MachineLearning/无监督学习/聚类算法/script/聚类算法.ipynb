{
 "cells": [
  {
   "cell_type": "markdown",
   "source": [
    "# 聚类算法"
   ],
   "metadata": {
    "collapsed": false
   }
  },
  {
   "cell_type": "markdown",
   "source": [
    "本任务，我们跳出有监督学习的框架，进入到无监督学习的领域。在之前的有监督学习的框架中，我们主要使用回归、分类模型学习因变量与各个自变量（特征）的关系，而无监督学习的一个重要特征就是没有因变量，只有自变量，这会导致两个问题的产生：\n",
    "- 如何建立无监督学习模型\n",
    "- 如何评价无监督学习模型\n",
    "\n",
    "事实上，只要把握以上两个问题，那么无监督学习也就掌握得十分清楚了。在进入无监督学习的具体算法学习开始之前，我们先来看看无监督学习任务的目的是什么？在无监督学习中，我们只知道我们手头上拥有一个数据集，每个数据集只有自变量（特征），数据中并没有正确的标签（因变量），因此我们需要在这组数据集上解决两个问题：\n",
    "- 问题1：数据集中的每个数据对应的正确标签是什么？\n",
    "- 问题2：数据集中的数据应该如何处理？\n",
    "\n",
    "针对“问题1：数据集中的每个数据对应的正确标签是什么？”，我们的任务就是通过数据预测最符合数据的正确标签是什么，比如：给出鸢尾花的花萼和花瓣的长度和宽度特征，预测该朵鸢尾花属于哪种鸢尾花（注意，这里的鸢尾花数据应该是没有因变量标签的）,该问题的解决办法叫“聚类”（具体什么是聚类，聚类的相关原理我们在后面再讲）。聚类算法的一个典型应用就是——RFM模型，RFM模型是电商公司客户分群的一个重要模型，它是通过一个客户的“近期购买行为(Recency)”、“购买的总体频率(Frequency)”以及“购买金额 (Monetary)”三个维度来描述该客户价值状况，进而给客户打上标签，如：有价值客户、重要发展客户等等。\n",
    "<img src=\"../figure/1.png\" alt=\"聚类案例描述\">\n",
    "\n",
    "针对“问题2：数据集中的数据应该如何处理？”，我们的任务是通过无监督学习算法找到数据中有用的信息，这类无监督学习算法叫做——降维。在大数据的背景下，数据维度呈现爆炸式的增长，如果没一个特征逐一分析是否有用，是否应该留在模型中将会花费很长的时间 ，而且绝大部分的特征其实都是对模型没什么贡献的，而降维算法就是能在减少数据集中特征数量的同时，避免丢失太多信息并保持/改进模型性能的方法。本节内容我们先不涉及降维算法，将在降维章节具体学习。\n",
    "\n",
    "关于聚类算法的章节任务，我们主要学习以下内容：\n",
    "- 1、常用的聚类算法\n",
    "   - 1.1 K-means聚类算法\n",
    "   - 1.2 K-means算法的改进：K-means++\n",
    "   - 1.3 高斯混合模型（GMM）\n",
    "   - 1.4 基于密度的聚类方法：DBSCAN\n",
    "   - 1.5 层次聚类算法\n",
    "- 2、聚类算法的内部性评价指标：\n",
    "   - 2.1 轮廓系数（Silhouette Coefficient Index）\n",
    "   - 2.2 CH分数（Calinski Harabasz Score）\n",
    "   - 2.3 戴维森堡丁指数(DBI)\n",
    "- 3、聚类算法案例分析：淘宝用户数据RFM客户分群\n",
    "   - 3.1 如何定义R、F、M的相关特征\n",
    "   - 3.2 Kmeans算法得到用户分群\n",
    "   - 3.3 客群分群的相关业务解释\n"
   ],
   "metadata": {
    "collapsed": false
   }
  },
  {
   "cell_type": "code",
   "execution_count": 2,
   "outputs": [],
   "source": [
    "# 引入数据科学常用工具库\n",
    "import numpy as np\n",
    "import pandas as pd\n",
    "import warnings\n",
    "import matplotlib.pyplot as plt\n",
    "%matplotlib inline\n",
    "warnings.filterwarnings(\"ignore\")\n",
    "pd.set_option(\"display.max_columns\", 100) # 设置最大列数\n",
    "pd.set_option(\"display.max_rows\", 1000) # 设置显示最大行数"
   ],
   "metadata": {
    "collapsed": false
   }
  },
  {
   "cell_type": "markdown",
   "source": [
    "## 1、常用的聚类算法\n",
    "\n",
    "聚类算法的主要工作是将数据集中的样本划分为若干个不相交的子集，每个样本子集叫做一个“簇”，也可以称为“类”。值得注意的是，聚类算法是不能事先知道业务从而得到某个类的，只能通过**数据的结构关系**得到数据中的结构存在的簇，如：聚类算法没有办法得到实际的客户分群中存在“”\n"
   ],
   "metadata": {
    "collapsed": false
   }
  },
  {
   "cell_type": "markdown",
   "source": [],
   "metadata": {
    "collapsed": false
   }
  }
 ],
 "metadata": {
  "kernelspec": {
   "display_name": "Python 3",
   "language": "python",
   "name": "python3"
  },
  "language_info": {
   "codemirror_mode": {
    "name": "ipython",
    "version": 2
   },
   "file_extension": ".py",
   "mimetype": "text/x-python",
   "name": "python",
   "nbconvert_exporter": "python",
   "pygments_lexer": "ipython2",
   "version": "2.7.6"
  }
 },
 "nbformat": 4,
 "nbformat_minor": 0
}
